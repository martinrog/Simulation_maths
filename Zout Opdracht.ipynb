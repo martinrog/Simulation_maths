{
 "cells": [
  {
   "cell_type": "markdown",
   "metadata": {},
   "source": [
    "### Gekoppelde tanks met zoutoplossingen\n",
    "\n",
    "\n",
    "#### Martin Rog\n",
    "\n",
    "\n",
    "De opdracht luidde als volgt:\n",
    "- Stel de differentiaalvergelijkingen op om deze situatie te kunnen modelleren (laat je inspireren door de eerdere opdrachten over S(E)IR en de zouttank).  (1)\n",
    "- Maak een numerieke berekening van het verloop van de zoutconcentraties in tanks A en B. Gebruik in eerste instantie Forward Euler Methode, daarna kan je die uitbreiden naar een accuratere methode (voor een hoger cijfer!). (2)\n",
    "- Plot x(t) en y(t), het verloop in de tijd van de zoutconcentraties. (3)\n",
    "- Bonus: maak je programma/grafiek interactief zodat de gebruiker 'on the fly' de stepsize kan aanpassen. (4)\n",
    "\n",
    "Deze eisen heb ik allemaal in de onderstaande cel opgelost. (Zie nummers)"
   ]
  },
  {
   "cell_type": "code",
   "execution_count": 1,
   "metadata": {},
   "outputs": [],
   "source": [
    "import numpy as np\n",
    "import matplotlib.pyplot as plt"
   ]
  },
  {
   "cell_type": "code",
   "execution_count": null,
   "metadata": {},
   "outputs": [],
   "source": [
    "#instroom zout\n",
    "CONCENTRATIE_INSTROOM = 0.2 # kg / liter\n",
    "\n",
    "#Info tank x\n",
    "TANK_INHOUD_X = 100 # liter\n",
    "INSTROOM_X = 6 # liter per minuut\n",
    "UITSTROOM_X = 4 # liter per minuut\n",
    "instroom_kg_per_min_x = CONCENTRATIE_INSTROOM * INSTROOM_X\n",
    "\n",
    "#info tank y\n",
    "TANK_INHOUD_Y = 100 # liter\n",
    "INSTROOM_Y = 3 # liter per minuut\n",
    "UITSTROOM_Y = 2 # liter per minuut\n",
    "instroom_kg_per_min_y = CONCENTRATIE_INSTROOM * INSTROOM_Y\n",
    "\n",
    "DUUR = 10*60 # = 10 uur\n",
    "AANTAL_STAPPEN = 1000\n",
    "stapgrootte = DUUR / AANTAL_STAPPEN # in minuten\n",
    "tijd = stapgrootte * np.arange(AANTAL_STAPPEN + 1)\n",
    "\n",
    "\n",
    "zout_x = np.zeros(AANTAL_STAPPEN + 1)\n",
    "zout_y = np.zeros(AANTAL_STAPPEN + 1)\n",
    "\n",
    "\n",
    "for stap in range(AANTAL_STAPPEN): #(1)\n",
    "    concentratie = zout_x[stap] / TANK_INHOUD_X # kg / liter\n",
    "    zout_x[stap + 1] = zout_x[stap] + stapgrootte * (instroom_kg_per_min_x - concentratie * UITSTROOM_X) #(2)\n",
    "    \n",
    "for stap in range(AANTAL_STAPPEN): #(1)\n",
    "    concentratie = zout_y[stap] / TANK_INHOUD_Y # kg / liter\n",
    "    zout_y[stap + 1] = zout_y[stap] + stapgrootte * (instroom_kg_per_min_y - concentratie * UITSTROOM_Y) #(2)\n",
    "    \n",
    "\n",
    "#plot in een while loop, waar je voor elke plot de stapgrootte kan bepalen\n",
    "while True:\n",
    "    #(4)\n",
    "    AANTAL_STAPPEN = int(input(\"Welke stapgrootte wil je : \"))\n",
    "    if AANTAL_STAPPEN == 0:\n",
    "        break\n",
    "    else:\n",
    "        #(3)\n",
    "        fig, ax = plt.subplots()\n",
    "        ax.plot(tijd, zout_x/AANTAL_STAPPEN)\n",
    "        ax.plot(tijd, zout_y/AANTAL_STAPPEN)\n",
    "        ax.set_title('zoutconcentratie in de tanken')\n",
    "        ax.set_xlabel('tijd (minuten)')\n",
    "        ax.set_ylabel('zout concentratie (kg / liter)')\n",
    "        plt.legend([\"Tank x\", \"Tank y\"], loc=\"lower right\")\n",
    "        plt.show()"
   ]
  }
 ],
 "metadata": {
  "kernelspec": {
   "display_name": "Python 3",
   "language": "python",
   "name": "python3"
  },
  "language_info": {
   "codemirror_mode": {
    "name": "ipython",
    "version": 3
   },
   "file_extension": ".py",
   "mimetype": "text/x-python",
   "name": "python",
   "nbconvert_exporter": "python",
   "pygments_lexer": "ipython3",
   "version": "3.8.5"
  }
 },
 "nbformat": 4,
 "nbformat_minor": 4
}
